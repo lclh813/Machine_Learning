{
 "cells": [
  {
   "cell_type": "markdown",
   "metadata": {},
   "source": [
    "## 4. Model Selection"
   ]
  },
  {
   "cell_type": "markdown",
   "metadata": {},
   "source": [
    "### 4.1. Data Transformation"
   ]
  },
  {
   "cell_type": "code",
   "execution_count": null,
   "metadata": {},
   "outputs": [],
   "source": [
    "# 4.1.1. Option 1: \"RankBins\" is a Categorical Data\n",
    "# Categorical data cannot be used for further analysis and therefore should be transformed into \"object\" property.\n",
    "Y_train = Y_train.astype(str)"
   ]
  },
  {
   "cell_type": "code",
   "execution_count": null,
   "metadata": {},
   "outputs": [],
   "source": [
    "# 4.1.2. Option 2: \"RankBins\" is a Numerical Data\n",
    "# Data transformation will not be necessary."
   ]
  },
  {
   "cell_type": "markdown",
   "metadata": {},
   "source": [
    "### 4.2. Model Deployment"
   ]
  },
  {
   "cell_type": "code",
   "execution_count": null,
   "metadata": {},
   "outputs": [],
   "source": [
    "# Create a list containing 6 supervised learning models.\n",
    "models = []\n",
    "models.append(('LR', LogisticRegression()))\n",
    "models.append(('LDA', LinearDiscriminantAnalysis()))\n",
    "models.append(('KNN', KNeighborsClassifier()))\n",
    "models.append(('CART', DecisionTreeClassifier()))\n",
    "models.append(('NB', GaussianNB()))\n",
    "models.append(('SVM', SVC()))"
   ]
  },
  {
   "cell_type": "markdown",
   "metadata": {},
   "source": [
    "### 4.3. Model Evaluation"
   ]
  },
  {
   "cell_type": "code",
   "execution_count": null,
   "metadata": {},
   "outputs": [],
   "source": [
    "# K number of \"folds\" will be selected randomly in accordance with random seed 7. \n",
    "seed = 7\n",
    "# Record the returned \"predictive accuracy\" of each model which will be used to plot \"Boxplots.\" \n",
    "# (6 Models * 10 Folds = 60 Results)\n",
    "results = []\n",
    "# Create a list containing the names of 6 models which will be used to plot \"Boxplots.\"\n",
    "names = []\n",
    "# Model evaluation will be based on \"predictive accuracy.\"\n",
    "scoring = 'accuracy'\n",
    "\n",
    "# Model Evaluation\n",
    "for name, model in tqdm_notebook(models):\n",
    "    # Specify how to conduct cross-validation: 10 folds selected randomly in accordance with random seed 7. \n",
    "    kfold = model_selection.KFold(n_splits=10, random_state=seed)\n",
    "    # Conduct cross-validation with the return of 10 \"predictive accuracy\" results. \n",
    "    cv_results = model_selection.cross_val_score(model, X_train, Y_train, cv=kfold, scoring=scoring)\n",
    "    # Record 10 \"predictive accuracy\" results.\n",
    "    results.append(cv_results)\n",
    "    # Record the name of the model which will be used to plot \"Boxplots.\"\n",
    "    names.append(name)\n",
    "    # Return mean and standard error of the 10 \"predictive accuracy\" results.\n",
    "    msg = \"%s: %f (%f)\" % (name, cv_results.mean(), cv_results.std())\n",
    "    print(msg)    "
   ]
  },
  {
   "cell_type": "code",
   "execution_count": null,
   "metadata": {},
   "outputs": [],
   "source": [
    "# Plot \"Boxplots.\"\n",
    "fig = plt.figure()\n",
    "fig.suptitle('Algorithm Comparison')\n",
    "# Specify the display of the figure.\n",
    "ax = fig.add_subplot(111)\n",
    "# Define Y-axis of the figure.\n",
    "plt.boxplot(results)\n",
    "# Define X-axis of the figure.\n",
    "ax.set_xticklabels(names)\n",
    "plt.show()"
   ]
  },
  {
   "cell_type": "markdown",
   "metadata": {},
   "source": [
    "### 4.4. Data Training"
   ]
  },
  {
   "cell_type": "code",
   "execution_count": null,
   "metadata": {},
   "outputs": [],
   "source": [
    "# The optimal model to predict the \"RankBins,\" namely the \"Sales Rank\" of the fruits sold by the fruit shop is\n",
    "# \"CART(Classification and Regression Trees).\""
   ]
  },
  {
   "cell_type": "code",
   "execution_count": null,
   "metadata": {},
   "outputs": [],
   "source": [
    "# Create an empty CART model.\n",
    "cart = DecisionTreeClassifier()\n",
    "# Fit CART model to training data.\n",
    "cart.fit(X_train, Y_train)"
   ]
  },
  {
   "cell_type": "markdown",
   "metadata": {},
   "source": [
    "### 4.5. Data Validation"
   ]
  },
  {
   "cell_type": "code",
   "execution_count": null,
   "metadata": {},
   "outputs": [],
   "source": [
    "# Deploy CART model to make prediction. \n",
    "predictions = cart.predict(X_validation)"
   ]
  },
  {
   "cell_type": "code",
   "execution_count": null,
   "metadata": {},
   "outputs": [],
   "source": [
    "# Compare the prediction with the actual results.\n",
    "# Since \"predictions\" is a \"numpy array,\" \"Y_validation\" should be transformed from \"series\" to \"array\" by method \"values.\"\n",
    "# 4.5.1. Option 1: \"RankBins\" is a Categorical Data\n",
    "# Categorical data cannot be used for further analysis and therefore should be transformed into \"object\" property.\n",
    "print(accuracy_score(Y_validation.astype(str).values, predictions))"
   ]
  },
  {
   "cell_type": "code",
   "execution_count": null,
   "metadata": {},
   "outputs": [],
   "source": [
    "# 4.5.2. Option 2: \"RankBins\" is a Numerical Data\n",
    "# Data transformation will not be necessary.\n",
    "print(accuracy_score(Y_validation.values, predictions))"
   ]
  }
 ],
 "metadata": {
  "kernelspec": {
   "display_name": "Python 3",
   "language": "python",
   "name": "python3"
  },
  "language_info": {
   "codemirror_mode": {
    "name": "ipython",
    "version": 3
   },
   "file_extension": ".py",
   "mimetype": "text/x-python",
   "name": "python",
   "nbconvert_exporter": "python",
   "pygments_lexer": "ipython3",
   "version": "3.6.5"
  }
 },
 "nbformat": 4,
 "nbformat_minor": 2
}
